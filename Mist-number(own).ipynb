{
  "nbformat": 4,
  "nbformat_minor": 0,
  "metadata": {
    "colab": {
      "name": "Untitled3.ipynb",
      "provenance": [],
      "authorship_tag": "ABX9TyNZwd6/XUsNOYPS9Kc6I9m3",
      "include_colab_link": true
    },
    "kernelspec": {
      "name": "python3",
      "display_name": "Python 3"
    },
    "accelerator": "GPU"
  },
  "cells": [
    {
      "cell_type": "markdown",
      "metadata": {
        "id": "view-in-github",
        "colab_type": "text"
      },
      "source": [
        "<a href=\"https://colab.research.google.com/github/harshit0209/NeuralNetwroks/blob/master/Mist-number(own).ipynb\" target=\"_parent\"><img src=\"https://colab.research.google.com/assets/colab-badge.svg\" alt=\"Open In Colab\"/></a>"
      ]
    },
    {
      "cell_type": "code",
      "metadata": {
        "id": "_qFOp076yLwc",
        "colab_type": "code",
        "colab": {
          "base_uri": "https://localhost:8080/",
          "height": 374
        },
        "outputId": "cfc86140-2927-4ec8-ebf7-727a78d5ddf3"
      },
      "source": [
        "import tensorflow as tf\n",
        "tf.__version__\n",
        "mnist=tf.keras.datasets.mnist #28x28 images of hand written digits 0-9\n",
        "(x_train, y_train),(x_test,y_test)=mnist.load_data()\n",
        "#Normalizing Matrix as it makes it faster, eaiser for model to deal with values between 0 and 1\n",
        "#The images in data set have a value 0- 255 that represent depth of color so below we have conterted the value between 0 to 1\n",
        "x_train=tf.keras.utils.normalize(x_train,axis=1)\n",
        "x_test=tf.keras.utils.normalize(x_test,axis=1)\n",
        "\n",
        "model=tf.keras.models.Sequential()#most common model\n",
        "model.add(tf.keras.layers.Flatten())#for making a linear structure form 2d array//numpy could also be used for this\n",
        "model.add(tf.keras.layers.Dense(128,activation=tf.nn.relu))\n",
        "model.add(tf.keras.layers.Dense(128,activation=tf.nn.relu))\n",
        "model.add(tf.keras.layers.Dense(10,activation=tf.nn.softmax))\n",
        "\n",
        "model.compile(optimizer='adam',loss='sparse_categorical_crossentropy',metrics=['accuracy'])\n",
        "\n",
        "model.fit(x_train,y_train,epochs=10)\n",
        " "
      ],
      "execution_count": 24,
      "outputs": [
        {
          "output_type": "stream",
          "text": [
            "Epoch 1/10\n",
            "1875/1875 [==============================] - 3s 2ms/step - loss: 0.2722 - accuracy: 0.9210\n",
            "Epoch 2/10\n",
            "1875/1875 [==============================] - 3s 2ms/step - loss: 0.1128 - accuracy: 0.9652\n",
            "Epoch 3/10\n",
            "1875/1875 [==============================] - 3s 2ms/step - loss: 0.0758 - accuracy: 0.9757\n",
            "Epoch 4/10\n",
            "1875/1875 [==============================] - 3s 2ms/step - loss: 0.0550 - accuracy: 0.9825\n",
            "Epoch 5/10\n",
            "1875/1875 [==============================] - 3s 2ms/step - loss: 0.0419 - accuracy: 0.9864\n",
            "Epoch 6/10\n",
            "1875/1875 [==============================] - 3s 2ms/step - loss: 0.0335 - accuracy: 0.9892\n",
            "Epoch 7/10\n",
            "1875/1875 [==============================] - 3s 2ms/step - loss: 0.0270 - accuracy: 0.9913\n",
            "Epoch 8/10\n",
            "1875/1875 [==============================] - 3s 2ms/step - loss: 0.0208 - accuracy: 0.9930\n",
            "Epoch 9/10\n",
            "1875/1875 [==============================] - 3s 2ms/step - loss: 0.0189 - accuracy: 0.9934\n",
            "Epoch 10/10\n",
            "1875/1875 [==============================] - 3s 2ms/step - loss: 0.0159 - accuracy: 0.9949\n"
          ],
          "name": "stdout"
        },
        {
          "output_type": "execute_result",
          "data": {
            "text/plain": [
              "<tensorflow.python.keras.callbacks.History at 0x7fa2bc15e748>"
            ]
          },
          "metadata": {
            "tags": []
          },
          "execution_count": 24
        }
      ]
    },
    {
      "cell_type": "code",
      "metadata": {
        "id": "wxgM3m4j3ovW",
        "colab_type": "code",
        "colab": {
          "base_uri": "https://localhost:8080/",
          "height": 51
        },
        "outputId": "cce79ef1-ee95-4475-a112-b89ef17c8ed3"
      },
      "source": [
        "#loss and accuracy\n",
        "val_loss,val_acc=model.evaluate(x_test,y_test)\n",
        "print(val_loss,val_acc)"
      ],
      "execution_count": 23,
      "outputs": [
        {
          "output_type": "stream",
          "text": [
            "313/313 [==============================] - 1s 2ms/step - loss: 0.1435 - accuracy: 0.9562\n",
            "0.1434568464756012 0.9562000036239624\n"
          ],
          "name": "stdout"
        }
      ]
    },
    {
      "cell_type": "markdown",
      "metadata": {
        "id": "rNl5o_i04ugD",
        "colab_type": "text"
      },
      "source": [
        "Saving the model(with weights) so that next time directly neural network can use"
      ]
    },
    {
      "cell_type": "code",
      "metadata": {
        "id": "25y1pZgm4T25",
        "colab_type": "code",
        "colab": {}
      },
      "source": [
        "model.save('epic_num_reader.h5')"
      ],
      "execution_count": 0,
      "outputs": []
    },
    {
      "cell_type": "markdown",
      "metadata": {
        "id": "AYh15S1R6rD6",
        "colab_type": "text"
      },
      "source": [
        "Making a new model from file "
      ]
    },
    {
      "cell_type": "code",
      "metadata": {
        "id": "LqoFACPI4dgo",
        "colab_type": "code",
        "colab": {}
      },
      "source": [
        "new_model=tf.keras.models.load_model('epic_num_reader.h5')\n"
      ],
      "execution_count": 0,
      "outputs": []
    },
    {
      "cell_type": "markdown",
      "metadata": {
        "id": "Grq2RR-h6v89",
        "colab_type": "text"
      },
      "source": [
        "Prediccting with new_model by passing it a list x_test. It gives output as list of lists that show probability of being different values. We will use **argmax** to get most probable outcome and show it."
      ]
    },
    {
      "cell_type": "code",
      "metadata": {
        "id": "QJwlA1gW5Ju1",
        "colab_type": "code",
        "colab": {
          "base_uri": "https://localhost:8080/",
          "height": 238
        },
        "outputId": "1e49a8d6-f514-4a89-d5ac-8d30a5986699"
      },
      "source": [
        "p=new_model.predict(x_test)\n",
        "print (p)"
      ],
      "execution_count": 35,
      "outputs": [
        {
          "output_type": "stream",
          "text": [
            "[[1.73874715e-16 1.76935374e-14 2.72635748e-14 ... 1.00000000e+00\n",
            "  1.72821413e-15 2.49168255e-11]\n",
            " [1.18788366e-21 9.84296644e-10 1.00000000e+00 ... 1.53087128e-14\n",
            "  1.62138774e-18 1.76070220e-21]\n",
            " [1.06379995e-10 9.99999046e-01 1.43120040e-08 ... 2.80240982e-07\n",
            "  5.49272613e-07 6.04689215e-11]\n",
            " ...\n",
            " [4.39993547e-17 3.07288700e-13 1.01567989e-20 ... 1.90233831e-12\n",
            "  8.84980370e-12 3.27522503e-06]\n",
            " [1.19565985e-15 5.34942281e-16 1.62326001e-19 ... 1.20566797e-14\n",
            "  1.29720183e-06 1.54527931e-14]\n",
            " [1.46901642e-13 1.03507104e-14 6.24029157e-17 ... 5.72669630e-25\n",
            "  7.84041563e-15 4.56130207e-16]]\n"
          ],
          "name": "stdout"
        }
      ]
    },
    {
      "cell_type": "code",
      "metadata": {
        "id": "DzG76v796C5X",
        "colab_type": "code",
        "colab": {
          "base_uri": "https://localhost:8080/",
          "height": 34
        },
        "outputId": "60d2a24e-03df-433b-cf3a-6ec6293a41a3"
      },
      "source": [
        "import numpy as np\n",
        "print(np.argmax(p[0]))"
      ],
      "execution_count": 36,
      "outputs": [
        {
          "output_type": "stream",
          "text": [
            "7\n"
          ],
          "name": "stdout"
        }
      ]
    },
    {
      "cell_type": "markdown",
      "metadata": {
        "id": "GuXvTxTo4_AF",
        "colab_type": "text"
      },
      "source": [
        "Loading Model from file"
      ]
    },
    {
      "cell_type": "code",
      "metadata": {
        "id": "Ve_UF3gby0Im",
        "colab_type": "code",
        "colab": {
          "base_uri": "https://localhost:8080/",
          "height": 282
        },
        "outputId": "94c19bf6-6c62-4c20-d6bc-45e72335dbc1"
      },
      "source": [
        "import matplotlib.pyplot as plt\n",
        "plt.imshow(x_test[0], cmap=plt.cm.binary)\n",
        "plt.show()\n",
        "print(y_test[0])"
      ],
      "execution_count": 41,
      "outputs": [
        {
          "output_type": "display_data",
          "data": {
            "image/png": "[encoded data removed]",
            "text/plain": [
              "<Figure size 432x288 with 1 Axes>"
            ]
          },
          "metadata": {
            "tags": [],
            "needs_background": "light"
          }
        },
        {
          "output_type": "stream",
          "text": [
            "7\n"
          ],
          "name": "stdout"
        }
      ]
    }
  ]
}