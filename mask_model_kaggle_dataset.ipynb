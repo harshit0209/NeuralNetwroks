{
  "nbformat": 4,
  "nbformat_minor": 0,
  "metadata": {
    "colab": {
      "name": "mask_model_kaggle_dataset.ipynb",
      "provenance": [],
      "authorship_tag": "ABX9TyPDbZEmzLns4nFVWvWBSQ6i",
      "include_colab_link": true
    },
    "kernelspec": {
      "name": "python3",
      "display_name": "Python 3"
    },
    "accelerator": "TPU"
  },
  "cells": [
    {
      "cell_type": "markdown",
      "metadata": {
        "id": "view-in-github",
        "colab_type": "text"
      },
      "source": [
        "<a href=\"https://colab.research.google.com/github/harshit0209/NeuralNetwroks/blob/master/mask_model_kaggle_dataset.ipynb\" target=\"_parent\"><img src=\"https://colab.research.google.com/assets/colab-badge.svg\" alt=\"Open In Colab\"/></a>"
      ]
    },
    {
      "cell_type": "markdown",
      "metadata": {
        "id": "ydeET7sMGF_P",
        "colab_type": "text"
      },
      "source": [
        "Installing Kaggle API"
      ]
    },
    {
      "cell_type": "code",
      "metadata": {
        "id": "Gf0D63KJBSqT",
        "colab_type": "code",
        "colab": {}
      },
      "source": [
        "!pip install kaggle\n"
      ],
      "execution_count": 0,
      "outputs": []
    },
    {
      "cell_type": "markdown",
      "metadata": {
        "id": "ImQvppG-GPsT",
        "colab_type": "text"
      },
      "source": [
        "Upload Kaggle.json from here(that was genrated from my kaggle account)"
      ]
    },
    {
      "cell_type": "code",
      "metadata": {
        "id": "EKMBpUC2B6EF",
        "colab_type": "code",
        "colab": {}
      },
      "source": [
        "from google.colab import files\n",
        "files.upload()\n"
      ],
      "execution_count": 0,
      "outputs": []
    },
    {
      "cell_type": "markdown",
      "metadata": {
        "id": "MADyfbWyGnfl",
        "colab_type": "text"
      },
      "source": [
        "Kaggle Dataset Setup"
      ]
    },
    {
      "cell_type": "code",
      "metadata": {
        "id": "nO28ep-FCcbQ",
        "colab_type": "code",
        "colab": {}
      },
      "source": [
        "!mkdir -p ~/.kaggle\n",
        "!cp kaggle.json ~/.kaggle\n",
        "!chmod 600 ~/.kaggle/kaggle.json"
      ],
      "execution_count": 0,
      "outputs": []
    },
    {
      "cell_type": "code",
      "metadata": {
        "id": "3q4Rx0WxCyxf",
        "colab_type": "code",
        "colab": {}
      },
      "source": [
        "!kaggle datasets download -d ahmetfurkandemr/mask-datasets-v1\n"
      ],
      "execution_count": 0,
      "outputs": []
    },
    {
      "cell_type": "code",
      "metadata": {
        "id": "SHNmQjcPC__2",
        "colab_type": "code",
        "colab": {}
      },
      "source": [
        "!unzip mask-datasets-v1.zip"
      ],
      "execution_count": 0,
      "outputs": []
    },
    {
      "cell_type": "markdown",
      "metadata": {
        "id": "4LGEDGSUGwgu",
        "colab_type": "text"
      },
      "source": [
        "Running COde via CLI"
      ]
    },
    {
      "cell_type": "code",
      "metadata": {
        "id": "yNNR3oN4DOE1",
        "colab_type": "code",
        "colab": {
          "base_uri": "https://localhost:8080/",
          "height": 615
        },
        "outputId": "3c79745b-0d3b-4e7f-dec7-0873b8a70874"
      },
      "source": [
        " !python train_mask_detector.py -d Mask_Datasets/Train/"
      ],
      "execution_count": 6,
      "outputs": [
        {
          "output_type": "stream",
          "text": [
            "2020-05-10 11:16:17.467686: I tensorflow/stream_executor/platform/default/dso_loader.cc:44] Successfully opened dynamic library libcudart.so.10.1\n",
            "[INFO] loading images...\n",
            "WARNING:tensorflow:`input_shape` is undefined or non-square, or `rows` is not in [96, 128, 160, 192, 224]. Weights for input shape (224, 224) will be loaded as the default.\n",
            "2020-05-10 11:16:38.398562: I tensorflow/stream_executor/platform/default/dso_loader.cc:44] Successfully opened dynamic library libcuda.so.1\n",
            "2020-05-10 11:16:38.452244: E tensorflow/stream_executor/cuda/cuda_driver.cc:313] failed call to cuInit: CUDA_ERROR_NO_DEVICE: no CUDA-capable device is detected\n",
            "2020-05-10 11:16:38.452311: I tensorflow/stream_executor/cuda/cuda_diagnostics.cc:156] kernel driver does not appear to be running on this host (a6d6904db2f6): /proc/driver/nvidia/version does not exist\n",
            "2020-05-10 11:16:38.468615: I tensorflow/core/platform/profile_utils/cpu_utils.cc:102] CPU Frequency: 2300000000 Hz\n",
            "2020-05-10 11:16:38.468841: I tensorflow/compiler/xla/service/service.cc:168] XLA service 0x244d480 initialized for platform Host (this does not guarantee that XLA will be used). Devices:\n",
            "2020-05-10 11:16:38.468877: I tensorflow/compiler/xla/service/service.cc:176]   StreamExecutor device (0): Host, Default Version\n",
            "Downloading data from https://storage.googleapis.com/tensorflow/keras-applications/mobilenet_v2/mobilenet_v2_weights_tf_dim_ordering_tf_kernels_1.0_224_no_top.h5\n",
            "9412608/9406464 [==============================] - 0s 0us/step\n",
            "[INFO] compiling model...\n",
            "[INFO] training head...\n",
            "Epoch 1/5\n",
            "18/18 [==============================] - 28s 2s/step - loss: 0.5910 - accuracy: 0.6962 - val_loss: 0.2895 - val_accuracy: 0.9267\n",
            "Epoch 2/5\n",
            "18/18 [==============================] - 27s 1s/step - loss: 0.2678 - accuracy: 0.8926 - val_loss: 0.1502 - val_accuracy: 0.9933\n",
            "Epoch 3/5\n",
            "18/18 [==============================] - 29s 2s/step - loss: 0.1752 - accuracy: 0.9437 - val_loss: 0.0937 - val_accuracy: 0.9933\n",
            "Epoch 4/5\n",
            "18/18 [==============================] - 27s 1s/step - loss: 0.1147 - accuracy: 0.9577 - val_loss: 0.0697 - val_accuracy: 0.9933\n",
            "Epoch 5/5\n",
            "18/18 [==============================] - 27s 1s/step - loss: 0.0952 - accuracy: 0.9736 - val_loss: 0.0550 - val_accuracy: 0.9933\n",
            "[INFO] evaluating network...\n",
            "              precision    recall  f1-score   support\n",
            "\n",
            "        Mask       0.99      1.00      0.99        70\n",
            "     No_mask       1.00      0.99      0.99        80\n",
            "\n",
            "    accuracy                           0.99       150\n",
            "   macro avg       0.99      0.99      0.99       150\n",
            "weighted avg       0.99      0.99      0.99       150\n",
            "\n There is a saparate Private Repo for this project",
            "[INFO] saving mask detector model...\n"
          ],
          "name": "stdout"
        }
      ]
    },
    {
      "cell_type": "code",
      "metadata": {
        "id": "fT213D9KF07D",
        "colab_type": "code",
        "colab": {}
      },
      "source": [
        ""
      ],
      "execution_count": 0,
      "outputs": []
    }
  ]
}
