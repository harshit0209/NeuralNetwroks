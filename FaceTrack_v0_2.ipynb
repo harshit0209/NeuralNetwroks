{
  "nbformat": 4,
  "nbformat_minor": 0,
  "metadata": {
    "kernelspec": {
      "name": "python3",
      "display_name": "Python 3"
    },
    "language_info": {
      "codemirror_mode": {
        "name": "ipython",
        "version": 3
      },
      "file_extension": ".py",
      "mimetype": "text/x-python",
      "name": "python",
      "nbconvert_exporter": "python",
      "pygments_lexer": "ipython3",
      "version": "3.7.6"
    },
    "colab": {
      "name": "FaceTrack_v0_2.ipynb",
      "provenance": [],
      "collapsed_sections": [],
      "toc_visible": true,
      "machine_shape": "hm",
      "include_colab_link": true
    },
    "accelerator": "GPU"
  },
  "cells": [
    {
      "cell_type": "markdown",
      "metadata": {
        "id": "view-in-github",
        "colab_type": "text"
      },
      "source": [
        "<a href=\"https://colab.research.google.com/github/harshit0209/NeuralNetwroks/blob/master/FaceTrack_v0_2.ipynb\" target=\"_parent\"><img src=\"https://colab.research.google.com/assets/colab-badge.svg\" alt=\"Open In Colab\"/></a>"
      ]
    },
    {
      "cell_type": "code",
      "metadata": {
        "id": "w5baVAsulWv_",
        "colab_type": "code",
        "colab": {}
      },
      "source": [
        "!pip -qq install -U keras"
      ],
      "execution_count": 0,
      "outputs": []
    },
    {
      "cell_type": "code",
      "metadata": {
        "id": "KMuoSB6Jh_7k",
        "colab_type": "code",
        "outputId": "b74832f4-1cd8-4e57-81de-97b2543531cd",
        "colab": {
          "base_uri": "https://localhost:8080/",
          "height": 122
        }
      },
      "source": [
        "from google.colab import drive\n",
        "drive.mount('/content/drive')"
      ],
      "execution_count": 2,
      "outputs": [
        {
          "output_type": "stream",
          "text": [
            "Go to this URL in a browser: https://accounts.google.com/o/oauth2/auth?client_id=947318989803-6bn6qk8qdgf4n4g3pfee6491hc0brc4i.apps.googleusercontent.com&redirect_uri=urn%3aietf%3awg%3aoauth%3a2.0%3aoob&response_type=code&scope=email%20https%3a%2f%2fwww.googleapis.com%2fauth%2fdocs.test%20https%3a%2f%2fwww.googleapis.com%2fauth%2fdrive%20https%3a%2f%2fwww.googleapis.com%2fauth%2fdrive.photos.readonly%20https%3a%2f%2fwww.googleapis.com%2fauth%2fpeopleapi.readonly\n",
            "\n",
            "Enter your authorization code:\n",
            "··········\n",
            "Mounted at /content/drive\n"
          ],
          "name": "stdout"
        }
      ]
    },
    {
      "cell_type": "code",
      "metadata": {
        "id": "qKKLgnGTiEs-",
        "colab_type": "code",
        "colab": {
          "base_uri": "https://localhost:8080/",
          "height": 204
        },
        "outputId": "5be9ab73-9696-4af1-d85b-12a3242c686c"
      },
      "source": [
        "import os, sys\n",
        "dir = '/content/drive/My Drive/dataset'\n",
        "if not os.path.exists(dir):\n",
        "    !mkdir /content/drive/My\\ Drive/dataset\n",
        "    !wget http://virtualmist.com/dataset/lfwcrop_color.zip\n",
        "    !cp lfwcrop_color.zip /content/drive/My\\ Drive/dataset/lfwcrop_color.zip"
      ],
      "execution_count": 3,
      "outputs": [
        {
          "output_type": "stream",
          "text": [
            "--2020-05-28 15:41:37--  http://virtualmist.com/dataset/lfwcrop_color.zip\n",
            "Resolving virtualmist.com (virtualmist.com)... 52.66.152.232\n",
            "Connecting to virtualmist.com (virtualmist.com)|52.66.152.232|:80... connected.\n",
            "HTTP request sent, awaiting response... 200 OK\n",
            "Length: 152404390 (145M) [application/zip]\n",
            "Saving to: ‘lfwcrop_color.zip’\n",
            "\n",
            "lfwcrop_color.zip   100%[===================>] 145.34M  26.0MB/s    in 6.3s    \n",
            "\n",
            "2020-05-28 15:41:43 (23.0 MB/s) - ‘lfwcrop_color.zip’ saved [152404390/152404390]\n",
            "\n"
          ],
          "name": "stdout"
        }
      ]
    },
    {
      "cell_type": "code",
      "metadata": {
        "id": "NV7q6y9yiEv0",
        "colab_type": "code",
        "colab": {}
      },
      "source": [
        "!cp /content/drive/My\\ Drive/dataset/lfwcrop_color.zip  dataset.zip\n",
        "!unzip -qq dataset.zip"
      ],
      "execution_count": 0,
      "outputs": []
    },
    {
      "cell_type": "code",
      "metadata": {
        "id": "HFquObziA35S",
        "colab_type": "code",
        "colab": {}
      },
      "source": [
        "BASE_PATH = 'lfwcrop_color/faces'"
      ],
      "execution_count": 0,
      "outputs": []
    },
    {
      "cell_type": "code",
      "metadata": {
        "id": "OGxBcExxA35U",
        "colab_type": "code",
        "outputId": "ec589695-7d25-4692-d63f-4ee7be8ea4ce",
        "colab": {
          "base_uri": "https://localhost:8080/",
          "height": 34
        }
      },
      "source": [
        "from __future__ import absolute_import, division, print_function\n",
        "from keras.layers import LeakyReLU\n",
        "import random\n",
        "import os\n",
        "import re\n",
        "import numpy as np\n",
        "import argparse\n",
        "from keras.layers.core import Dense, Dropout, Flatten, Activation\n",
        "from keras.layers.convolutional import Convolution2D\n",
        "from keras.optimizers import Adam\n",
        "from keras.layers.normalization import BatchNormalization\n",
        "from keras.layers.advanced_activations import LeakyReLU\n",
        "from keras.layers import merge, Input, Subtract\n",
        "from keras.models import Model\n",
        "from keras.layers.noise import GaussianNoise\n",
        "from keras.utils import generic_utils"
      ],
      "execution_count": 6,
      "outputs": [
        {
          "output_type": "stream",
          "text": [
            "Using TensorFlow backend.\n"
          ],
          "name": "stderr"
        }
      ]
    },
    {
      "cell_type": "code",
      "metadata": {
        "id": "FZyAtkDsA35Z",
        "colab_type": "code",
        "colab": {}
      },
      "source": [
        "from keras.callbacks import ModelCheckpoint\n"
      ],
      "execution_count": 0,
      "outputs": []
    },
    {
      "cell_type": "code",
      "metadata": {
        "id": "AQkTNIEbA353",
        "colab_type": "code",
        "colab": {}
      },
      "source": [
        "def identity_block(X, kernel, filters, stage, block, s=2):\n",
        "    \"\"\"\n",
        "    Implementation of the convolutional block as defined in Figure 4\n",
        "\n",
        "    Arguments:\n",
        "    X -- input tensor of shape (m, n_H_prev, n_W_prev, n_C_prev)\n",
        "    f -- integer, specifying the shape of the middle CONV's window for the main path\n",
        "    filters -- python list of integers, defining the number of filters in the CONV layers of the main path\n",
        "    stage -- integer, used to name the layers, depending on their position in the network\n",
        "    block -- string/character, used to name the layers, depending on their position in the network\n",
        "    s -- Integer, specifying the stride to be used\n",
        "\n",
        "    Returns:\n",
        "    X -- output of the convolutional block, tensor of shape (n_H, n_W, n_C)\n",
        "    \"\"\"\n",
        "    \n",
        "    # defining name basis\n",
        "    conv_name_base = 'res' + str(stage) + block + '_branch'\n",
        "    bn_name_base = 'bn' + str(stage) + block + '_branch'\n",
        "    \n",
        "    # Retrieve Filters\n",
        "    F1, F2, F3 = filters\n",
        "    \n",
        "    # Save the input value\n",
        "    X_shortcut = X\n",
        "\n",
        "\n",
        "    ##### MAIN PATH #####\n",
        "    # First component of main path \n",
        "    X = Conv2D(F1, (1, 1), strides = (s,s), kernel_initializer = glorot_uniform(seed=0))(X)\n",
        "    X = BatchNormalization(axis = 3)(X)\n",
        "    #X = LeakyReLU(alpha=0.1)(X) #not Converging\n",
        "    X = Activation('relu')(X)\n",
        "\n",
        "    # Second component of main path (≈3 lines)\n",
        "    X = Conv2D(filters = F2, kernel_size = (kernel, kernel), strides = (1,1), padding = 'same', kernel_initializer = glorot_uniform(seed=0))(X)\n",
        "    X = BatchNormalization(axis = 3)(X)\n",
        "    #X = LeakyReLU(alpha=0.1)(X) #not Converging\n",
        "    X = Activation('relu')(X)\n",
        "\n",
        "\n",
        "    # Third component of main path (≈2 lines)\n",
        "    X = Conv2D(filters = F3, kernel_size = (1, 1), strides = (1,1), padding = 'valid', kernel_initializer = glorot_uniform(seed=0))(X)\n",
        "    X = BatchNormalization(axis = 3)(X)\n",
        "\n",
        "\n",
        "    ##### SHORTCUT PATH #### (≈2 lines)\n",
        "    X_shortcut = Conv2D(filters = F3, kernel_size = (1, 1), strides = (s,s), padding = 'valid',\n",
        "                        kernel_initializer = glorot_uniform(seed=0))(X_shortcut)\n",
        "    X_shortcut = BatchNormalization(axis = 3)(X_shortcut)\n",
        "\n",
        "    # Final step: Add shortcut value to main path, and pass it through a RELU activation (≈2 lines)\n",
        "    X = Add()([X, X_shortcut])\n",
        "    #X = LeakyReLU(alpha=0.1)(X) #not Converging\n",
        "    X = Activation('relu')(X)    \n",
        "    return X"
      ],
      "execution_count": 0,
      "outputs": []
    },
    {
      "cell_type": "code",
      "metadata": {
        "id": "SJzojrqmA359",
        "colab_type": "code",
        "colab": {}
      },
      "source": [
        "from keras import layers\n",
        "from keras.layers import Input, Add, Dense, Activation, LocallyConnected2D,GaussianDropout,ZeroPadding2D, BatchNormalization, Flatten, Conv2D, AveragePooling2D, MaxPooling2D, GlobalMaxPooling2D\n",
        "from keras.models import Model, load_model\n",
        "from keras.preprocessing import image\n",
        "from keras.utils import layer_utils\n",
        "from keras.utils.data_utils import get_file\n",
        "from keras.applications.imagenet_utils import preprocess_input\n",
        "#import pydot\n",
        "from IPython.display import SVG\n",
        "from keras.utils.vis_utils import model_to_dot\n",
        "from keras.utils import plot_model\n",
        "#from resnets_utils import *\n",
        "from keras.initializers import glorot_uniform\n",
        "import scipy.misc\n",
        "from matplotlib.pyplot import imshow\n",
        "%matplotlib inline\n",
        "\n",
        "import keras.backend as K\n",
        "K.set_image_data_format('channels_last')\n",
        "K.set_learning_phase(1)"
      ],
      "execution_count": 0,
      "outputs": []
    },
    {
      "cell_type": "code",
      "metadata": {
        "id": "ZgKaww5BA35_",
        "colab_type": "code",
        "colab": {}
      },
      "source": [
        "import bz2\n",
        "import os\n",
        "\n",
        "from urllib.request import urlopen\n",
        "\n",
        "def download_landmarks(dst_file):\n",
        "    url = 'http://dlib.net/files/shape_predictor_68_face_landmarks.dat.bz2'\n",
        "    decompressor = bz2.BZ2Decompressor()\n",
        "    \n",
        "    with urlopen(url) as src, open(dst_file, 'wb') as dst:\n",
        "        data = src.read(1024)\n",
        "        while len(data) > 0:\n",
        "            dst.write(decompressor.decompress(data))\n",
        "            data = src.read(1024)\n",
        "\n",
        "dst_dir = 'models'\n",
        "dst_file = os.path.join(dst_dir, 'landmarks.dat')\n",
        "\n",
        "if not os.path.exists(dst_file):\n",
        "    os.makedirs(dst_dir)\n",
        "    download_landmarks(dst_file)"
      ],
      "execution_count": 0,
      "outputs": []
    },
    {
      "cell_type": "code",
      "metadata": {
        "id": "NkcrwaW8E_6A",
        "colab_type": "code",
        "colab": {}
      },
      "source": [
        "def cosine_distance(vecs, normalize=False):\n",
        "    x, y = vecs\n",
        "    if normalize:\n",
        "        x = K.l2_normalize(x, axis=0)\n",
        "        y = K.l2_normalize(x, axis=0)\n",
        "    return K.prod(K.stack([x, y], axis=1), axis=1)\n",
        "\n",
        "def cosine_distance_output_shape(shapes):\n",
        "    return shapes[0]\n",
        "\n",
        "def compute_accuracy(preds, labels):\n",
        "    return labels[preds.ravel() < 0.5].mean()"
      ],
      "execution_count": 0,
      "outputs": []
    },
    {
      "cell_type": "code",
      "metadata": {
        "id": "5JIi2DmKl4zg",
        "colab_type": "code",
        "colab": {}
      },
      "source": [
        "INPUT_HEIGHT = 64\n",
        "INPUT_WIDTH = 64\n",
        "INPUT_CHANNELS = 3"
      ],
      "execution_count": 0,
      "outputs": []
    },
    {
      "cell_type": "code",
      "metadata": {
        "id": "GUb1EU2VA358",
        "colab_type": "code",
        "colab": {}
      },
      "source": [
        "from keras.layers.core import Lambda\n",
        "def faceX(input_shape=(64, 64, 3), Classes=128):\n",
        "    \"\"\"\n",
        "    Implementation of the popular ResNet50 the following architecture:\n",
        "    CONV2D -> BATCHNORM -> RELU -> MAXPOOL -> CONVBLOCK -> IDBLOCK*2 -> CONVBLOCK -> IDBLOCK*3\n",
        "    -> CONVBLOCK -> IDBLOCK*5 -> CONVBLOCK -> IDBLOCK*2 -> AVGPOOL -> TOPLAYER\n",
        "\n",
        "    Arguments:\n",
        "    input_shape -- shape of the images of the dataset\n",
        "    classes -- integer, number of classes\n",
        "\n",
        "    Returns:\n",
        "    model -- a Model() instance in Keras\n",
        "    \"\"\"\n",
        "    X_input = Input(shape=input_shape)\n",
        "#Start Editing\n",
        "    # Zero-Padding\n",
        "    X = ZeroPadding2D((3, 3))(X_input)\n",
        "\n",
        "   # X = LocallyConnected2D(filters=64, kernel_size=(7,7), strides=(1, 1), padding='valid', data_format=None, activation='tanh', \n",
        "    #                   use_bias=True, kernel_initializer='glorot_uniform', bias_initializer='zeros', \n",
        "     #                  kernel_regularizer=None, bias_regularizer=None, activity_regularizer=None, \n",
        "      #                 kernel_constraint=None, bias_constraint=None)(X)\n",
        "                         \n",
        "    X = Conv2D(filters=64, kernel_size=(7,7), strides=(1, 1), padding='valid', data_format=None, dilation_rate=(1, 1), \n",
        "               activation=None, use_bias=True, kernel_initializer='glorot_uniform', bias_initializer='zeros', \n",
        "               kernel_regularizer=None, bias_regularizer=None, activity_regularizer=None, kernel_constraint=None,\n",
        "               bias_constraint=None)(X)\n",
        "    X = BatchNormalization()(X)\n",
        "    X = Conv2D(filters=64, kernel_size=(7,7), strides=(1, 1), padding='valid', data_format=None, dilation_rate=(1, 1), \n",
        "               activation=None, use_bias=True, kernel_initializer='glorot_uniform', bias_initializer='zeros', \n",
        "               kernel_regularizer=None, bias_regularizer=None, activity_regularizer=None, kernel_constraint=None,\n",
        "               bias_constraint=None)(X)\n",
        "    \n",
        "    #Normalize the activations of the previous layer at each batch, \n",
        "    #i.e. applies a transformation that maintains the mean activation close to 0 and the activation standard deviation close to 1.\n",
        "    #Reducing Internal Covariate Shift\n",
        "    \n",
        "    X = BatchNormalization(axis=3, momentum=0.99, epsilon=0.001, center=True, scale=True, beta_initializer='zeros', \n",
        "                           gamma_initializer='ones', moving_mean_initializer='zeros', moving_variance_initializer='ones', \n",
        "                           beta_regularizer=None, gamma_regularizer=None, beta_constraint=None, gamma_constraint=None)(X)\n",
        "    \n",
        "    X = Activation('relu')(X)\n",
        "    \n",
        "\n",
        "    #X = GaussianDropout(0.2)(X)\n",
        "    X = AveragePooling2D((2,2))(X)\n",
        "    X = Flatten()(X)\n",
        "\n",
        "    X = Dense(units=Classes, activation='tanh', use_bias=True, kernel_initializer='glorot_uniform', bias_initializer='zeros', \n",
        "              kernel_regularizer=None, bias_regularizer=None, activity_regularizer=None, kernel_constraint=None, \n",
        "              bias_constraint=None)(X)\n",
        "#Stop Editing\n",
        "\n",
        "#Part 2\n",
        "    face_output = X\n",
        "    #Model for Indv. Images(feature extraction)\n",
        "    face_model = Model(X_input, X)\n",
        "#Input the images\n",
        "    face_left_input = Input(shape=(INPUT_HEIGHT, INPUT_WIDTH, INPUT_CHANNELS),\n",
        "                            dtype=\"float32\", name=\"RefFace\")\n",
        "    face_right_input = Input(shape=(INPUT_HEIGHT, INPUT_WIDTH, INPUT_CHANNELS),\n",
        "                             dtype=\"float32\", name=\"ActFace\")\n",
        "    \n",
        "    #Passing the image for feature extraction\n",
        "    face_left = face_model(face_left_input)\n",
        "    face_right = face_model(face_right_input)\n",
        "\n",
        "\n",
        "\n",
        "#Calculate difference\n",
        "    distance = Lambda(cosine_distance, \n",
        "                      output_shape=cosine_distance_output_shape)([face_left, face_right])\n",
        "\n",
        "\n",
        "    fc1 = Dense(128, kernel_initializer=\"glorot_uniform\")(distance)\n",
        "    fc1 = Dropout(0.2)(fc1)\n",
        "    fc1 = Activation(\"relu\")(fc1)\n",
        "\n",
        "    pred = Dense(2, kernel_initializer=\"glorot_uniform\")(fc1)\n",
        "    pred = Activation(\"softmax\")(pred)\n",
        "    #complete\n",
        "    model = Model(inputs=[face_left_input, face_right_input], outputs=pred)\n",
        "    \n",
        "    \n",
        "\n",
        "    return model,face_model"
      ],
      "execution_count": 0,
      "outputs": []
    },
    {
      "cell_type": "code",
      "metadata": {
        "id": "r_hk-dVjA36B",
        "colab_type": "code",
        "outputId": "07c67871-3d67-49ad-c5c3-d584bf355aed",
        "colab": {
          "base_uri": "https://localhost:8080/",
          "height": 34
        }
      },
      "source": [
        "# initialize the network\n",
        "print(\"Creating model...\")\n",
        "input_shape = (64, 64, 3)\n",
        "model,faceModel = faceX()"
      ],
      "execution_count": 14,
      "outputs": [
        {
          "output_type": "stream",
          "text": [
            "Creating model...\n"
          ],
          "name": "stdout"
        }
      ]
    },
    {
      "cell_type": "code",
      "metadata": {
        "id": "IYbFnqZYA36G",
        "colab_type": "code",
        "outputId": "5b3595ed-176e-4b9e-a643-4434ead7a9b0",
        "colab": {
          "base_uri": "https://localhost:8080/",
          "height": 493
        }
      },
      "source": [
        "faceModel.summary()"
      ],
      "execution_count": 15,
      "outputs": [
        {
          "output_type": "stream",
          "text": [
            "Model: \"model_1\"\n",
            "_________________________________________________________________\n",
            "Layer (type)                 Output Shape              Param #   \n",
            "=================================================================\n",
            "input_1 (InputLayer)         (None, 64, 64, 3)         0         \n",
            "_________________________________________________________________\n",
            "zero_padding2d_1 (ZeroPaddin (None, 70, 70, 3)         0         \n",
            "_________________________________________________________________\n",
            "conv2d_1 (Conv2D)            (None, 64, 64, 64)        9472      \n",
            "_________________________________________________________________\n",
            "batch_normalization_1 (Batch (None, 64, 64, 64)        256       \n",
            "_________________________________________________________________\n",
            "conv2d_2 (Conv2D)            (None, 58, 58, 64)        200768    \n",
            "_________________________________________________________________\n",
            "batch_normalization_2 (Batch (None, 58, 58, 64)        256       \n",
            "_________________________________________________________________\n",
            "activation_1 (Activation)    (None, 58, 58, 64)        0         \n",
            "_________________________________________________________________\n",
            "average_pooling2d_1 (Average (None, 29, 29, 64)        0         \n",
            "_________________________________________________________________\n",
            "flatten_1 (Flatten)          (None, 53824)             0         \n",
            "_________________________________________________________________\n",
            "dense_1 (Dense)              (None, 128)               6889600   \n",
            "=================================================================\n",
            "Total params: 7,100,352\n",
            "Trainable params: 7,100,096\n",
            "Non-trainable params: 256\n",
            "_________________________________________________________________\n"
          ],
          "name": "stdout"
        }
      ]
    },
    {
      "cell_type": "code",
      "metadata": {
        "id": "GVfpDjrkmNCo",
        "colab_type": "code",
        "outputId": "617a3bc5-a12b-43db-88aa-e18b9f1b6738",
        "colab": {
          "base_uri": "https://localhost:8080/",
          "height": 493
        }
      },
      "source": [
        "model.summary()"
      ],
      "execution_count": 16,
      "outputs": [
        {
          "output_type": "stream",
          "text": [
            "Model: \"model_2\"\n",
            "__________________________________________________________________________________________________\n",
            "Layer (type)                    Output Shape         Param #     Connected to                     \n",
            "==================================================================================================\n",
            "RefFace (InputLayer)            (None, 64, 64, 3)    0                                            \n",
            "__________________________________________________________________________________________________\n",
            "ActFace (InputLayer)            (None, 64, 64, 3)    0                                            \n",
            "__________________________________________________________________________________________________\n",
            "model_1 (Model)                 (None, 128)          7100352     RefFace[0][0]                    \n",
            "                                                                 ActFace[0][0]                    \n",
            "__________________________________________________________________________________________________\n",
            "lambda_1 (Lambda)               (None, 128)          0           model_1[1][0]                    \n",
            "                                                                 model_1[2][0]                    \n",
            "__________________________________________________________________________________________________\n",
            "dense_2 (Dense)                 (None, 128)          16512       lambda_1[0][0]                   \n",
            "__________________________________________________________________________________________________\n",
            "dropout_1 (Dropout)             (None, 128)          0           dense_2[0][0]                    \n",
            "__________________________________________________________________________________________________\n",
            "activation_2 (Activation)       (None, 128)          0           dropout_1[0][0]                  \n",
            "__________________________________________________________________________________________________\n",
            "dense_3 (Dense)                 (None, 2)            258         activation_2[0][0]               \n",
            "__________________________________________________________________________________________________\n",
            "activation_3 (Activation)       (None, 2)            0           dense_3[0][0]                    \n",
            "==================================================================================================\n",
            "Total params: 7,117,122\n",
            "Trainable params: 7,116,866\n",
            "Non-trainable params: 256\n",
            "__________________________________________________________________________________________________\n"
          ],
          "name": "stdout"
        }
      ]
    },
    {
      "cell_type": "code",
      "metadata": {
        "id": "Ae7DuZL1A36I",
        "colab_type": "code",
        "outputId": "b0f5f473-6a20-4486-afb0-95bae7ac454e",
        "colab": {
          "base_uri": "https://localhost:8080/",
          "height": 1000
        }
      },
      "source": [
        "from keras.utils.vis_utils import plot_model\n",
        "plot_model(faceModel, to_file='model_plot.png', show_shapes=True)"
      ],
      "execution_count": 17,
      "outputs": [
        {
          "output_type": "execute_result",
          "data": {
            "image/png": "[encoded data removed]",
            "text/plain": [
              "<IPython.core.display.Image object>"
            ]
          },
          "metadata": {
            "tags": []
          },
          "execution_count": 17
        }
      ]
    },
    {
      "cell_type": "code",
      "metadata": {
        "id": "vzFIHoxnmVnM",
        "colab_type": "code",
        "outputId": "f0b12751-72bc-4a13-ef2a-9d2065f61f3e",
        "colab": {
          "base_uri": "https://localhost:8080/",
          "height": 865
        }
      },
      "source": [
        "from keras.utils.vis_utils import plot_model\n",
        "plot_model(model, to_file='Mainmodel_plot.png', show_shapes=True)"
      ],
      "execution_count": 18,
      "outputs": [
        {
          "output_type": "execute_result",
          "data": {
            "image/png": "[encoded data removed]",
            "text/plain": [
              "<IPython.core.display.Image object>"
            ]
          },
          "metadata": {
            "tags": []
          },
          "execution_count": 18
        }
      ]
    },
    {
      "cell_type": "code",
      "metadata": {
        "id": "QYdhIyXA2CE1",
        "colab_type": "code",
        "outputId": "ded38eb5-0a42-4f8c-f1c5-ae8d8a3fd076",
        "colab": {
          "base_uri": "https://localhost:8080/",
          "height": 34
        }
      },
      "source": [
        "import itertools\n",
        "image_groups = {}\n",
        "IMAGE_DIR ='lfwcrop_color/faces'\n",
        "for image_name in os.listdir(IMAGE_DIR):\n",
        "    base_name = image_name[0:-4]\n",
        "    group_name = base_name.split('_0')[0]\n",
        "    if group_name in image_groups:\n",
        "        image_groups[group_name].append(image_name)\n",
        "    else:\n",
        "        image_groups[group_name] = [image_name]\n",
        "\n",
        "num_sim = 0\n",
        "image_triples = []\n",
        "group_list = sorted(list(image_groups.keys()))\n",
        "for i, g in enumerate(group_list):\n",
        "    if num_sim % 100 == 0:\n",
        "        print(\"Generated {:d} pos + {:d} neg = {:d} total image triples\"\n",
        "              .format(num_sim, num_sim, 2*num_sim), end=\"\\r\")\n",
        "    images_in_group = image_groups[g]\n",
        "    # generate similar pairs\n",
        "    sim_pairs_it = itertools.combinations(images_in_group, 2)\n",
        "    # for each similar pair, generate a different pair\n",
        "    for ref_image, sim_image in sim_pairs_it:\n",
        "        image_triples.append((ref_image, sim_image, 1))\n",
        "        num_sim += 1\n",
        "        while True:\n",
        "            j = np.random.randint(low=0, high=len(group_list), size=1)[0]\n",
        "            if j != i: break\n",
        "        dif_image_candidates = image_groups[group_list[j]]\n",
        "        k = np.random.randint(low=0, high=len(dif_image_candidates), size=1)[0]\n",
        "        dif_image = dif_image_candidates[k]\n",
        "        image_triples.append((ref_image, dif_image, 0))\n",
        "        \n",
        "print(\"Generated {:d} pos + {:d} neg = {:d} total image triples, COMPLETE\"\n",
        "      .format(num_sim, num_sim, 2*num_sim))"
      ],
      "execution_count": 19,
      "outputs": [
        {
          "output_type": "stream",
          "text": [
            "Generated 242257 pos + 242257 neg = 484514 total image triples, COMPLETE\n"
          ],
          "name": "stdout"
        }
      ]
    },
    {
      "cell_type": "code",
      "metadata": {
        "id": "DY-5-T7a7EhR",
        "colab_type": "code",
        "outputId": "4f6bd7f5-9fb7-462f-bc36-56a7845c64f2",
        "colab": {
          "base_uri": "https://localhost:8080/",
          "height": 85
        }
      },
      "source": [
        "def image_triple_generator(image_triples, batch_size):\n",
        "    while True:\n",
        "        # loop once per epoch\n",
        "        num_recs = len(image_triples)\n",
        "        indices = np.random.permutation(np.arange(num_recs))\n",
        "        num_batches = num_recs // batch_size\n",
        "        for bid in range(num_batches):\n",
        "            # loop once per batch\n",
        "            batch_indices = indices[bid * batch_size : (bid + 1) * batch_size]\n",
        "            yield [image_triples[i] for i in batch_indices]\n",
        "            \n",
        "triples_batch_gen = image_triple_generator(image_triples, 4)\n",
        "next(triples_batch_gen)\n"
      ],
      "execution_count": 20,
      "outputs": [
        {
          "output_type": "execute_result",
          "data": {
            "text/plain": [
              "[('Donald_Rumsfeld_0095.ppm', 'Donald_Rumsfeld_0102.ppm', 1),\n",
              " ('George_W_Bush_0117.ppm', 'George_W_Bush_0176.ppm', 1),\n",
              " ('George_W_Bush_0083.ppm', 'George_W_Bush_0336.ppm', 1),\n",
              " ('George_W_Bush_0210.ppm', 'Pamela_Melroy_0001.ppm', 0)]"
            ]
          },
          "metadata": {
            "tags": []
          },
          "execution_count": 20
        }
      ]
    },
    {
      "cell_type": "code",
      "metadata": {
        "id": "v6_fHFm67Ekz",
        "colab_type": "code",
        "colab": {}
      },
      "source": [
        "def load_vectors(vector_file):\n",
        "    vec_dict = {}\n",
        "    fvec = open(vector_file, \"rb\")\n",
        "    for line in fvec:\n",
        "        image_name, image_vec = line.strip().split(\"\\t\")\n",
        "        vec = np.array([float(v) for v in image_vec.split(\",\")])\n",
        "        vec_dict[image_name] = vec\n",
        "    fvec.close()\n",
        "    return vec_dict\n",
        "\n",
        "def train_test_split(triples, splits):\n",
        "    assert sum(splits) == 1.0\n",
        "    split_pts = np.cumsum(np.array([0.] + splits))\n",
        "    indices = np.random.permutation(np.arange(len(triples)))\n",
        "    shuffled_triples = [triples[i] for i in indices]\n",
        "    data_splits = []\n",
        "    for sid in range(len(splits)):\n",
        "        start = int(split_pts[sid] * len(triples))\n",
        "        end = int(split_pts[sid + 1] * len(triples))\n",
        "        data_splits.append(shuffled_triples[start:end])\n",
        "    return data_splits"
      ],
      "execution_count": 0,
      "outputs": []
    },
    {
      "cell_type": "code",
      "metadata": {
        "id": "dR1LRM9Y6auT",
        "colab_type": "code",
        "colab": {}
      },
      "source": [
        "def batch_to_vectors(batch, vec_size, vec_dict):\n",
        "    X1 = np.zeros((len(batch), vec_size))\n",
        "    X2 = np.zeros((len(batch), vec_size))\n",
        "    Y = np.zeros((len(batch), 2))\n",
        "    for tid in range(len(batch)):\n",
        "        X1[tid] = vec_dict[batch[tid][0]]\n",
        "        X2[tid] = vec_dict[batch[tid][1]]\n",
        "        Y[tid] = [1, 0] if batch[tid][2] == 0 else [0, 1]\n",
        "    return ([X1, X2], Y)\n",
        "    \n",
        "def data_generator(triples, vec_size, vec_dict, batch_size=32):\n",
        "    while True:\n",
        "        # shuffle once per batch\n",
        "        indices = np.random.permutation(np.arange(len(triples)))\n",
        "        num_batches = len(triples) // batch_size\n",
        "        for bid in range(num_batches):\n",
        "            batch_indices = indices[bid * batch_size : (bid + 1) * batch_size]\n",
        "            batch = [triples[i] for i in batch_indices]\n",
        "            yield batch_to_vectors(batch, vec_size, vec_dict)"
      ],
      "execution_count": 0,
      "outputs": []
    },
    {
      "cell_type": "code",
      "metadata": {
        "id": "0j2KRLQA8UvR",
        "colab_type": "code",
        "outputId": "a043b2a0-4f22-4c00-d767-2bbe448d88f9",
        "colab": {
          "base_uri": "https://localhost:8080/",
          "height": 34
        }
      },
      "source": [
        "train_triples, val_triples, test_triples = train_test_split(image_triples, \n",
        "                                                            splits=[0.4, 0.3, 0.3])\n",
        "print(len(train_triples), len(val_triples), len(test_triples))"
      ],
      "execution_count": 23,
      "outputs": [
        {
          "output_type": "stream",
          "text": [
            "193805 145354 145355\n"
          ],
          "name": "stdout"
        }
      ]
    },
    {
      "cell_type": "code",
      "metadata": {
        "id": "wY7x1555pEw_",
        "colab_type": "code",
        "colab": {}
      },
      "source": [
        "SEED = 50\n",
        "#TRAIN_COUNT_EXAMPLES = 7000\n",
        "#VALIDATION_COUNT_EXAMPLES = 500\n",
        "EPOCHS = 10\n",
        "BATCH_SIZE = 64\n",
        "BATCH_SIZE_VAL = 32"
      ],
      "execution_count": 0,
      "outputs": []
    },
    {
      "cell_type": "code",
      "metadata": {
        "id": "ev_R2GQ-8Uyg",
        "colab_type": "code",
        "colab": {}
      },
      "source": [
        "train_steps_per_epoch = len(train_triples) // BATCH_SIZE\n",
        "val_steps_per_epoch = len(val_triples) // BATCH_SIZE"
      ],
      "execution_count": 0,
      "outputs": []
    },
    {
      "cell_type": "code",
      "metadata": {
        "id": "ltHfznu38HDs",
        "colab_type": "code",
        "outputId": "195c9fcf-2742-40f2-ff19-dbd08a7fdf76",
        "colab": {
          "base_uri": "https://localhost:8080/",
          "height": 34
        }
      },
      "source": [
        "train_steps_per_epoch"
      ],
      "execution_count": 26,
      "outputs": [
        {
          "output_type": "execute_result",
          "data": {
            "text/plain": [
              "3028"
            ]
          },
          "metadata": {
            "tags": []
          },
          "execution_count": 26
        }
      ]
    },
    {
      "cell_type": "code",
      "metadata": {
        "id": "lCe5oNzbA36K",
        "colab_type": "code",
        "colab": {}
      },
      "source": [
        "# Calling the compile method seems to mess with the seeds (theano problem?)\n",
        "# Therefore they are reset here (numpy seeds seem to be unaffected)\n",
        "# (Seems to still not make runs reproducible.)\n",
        "random.seed(SEED)"
      ],
      "execution_count": 0,
      "outputs": []
    },
    {
      "cell_type": "code",
      "metadata": {
        "id": "hK_5xJvSTcSw",
        "colab_type": "code",
        "colab": {}
      },
      "source": [
        "import os, sys\n",
        "dir = '/content/drive/My Drive/dataset/weights'\n",
        "if not os.path.exists(dir):\n",
        "    !mkdir /content/drive/My\\ Drive/dataset/weights"
      ],
      "execution_count": 0,
      "outputs": []
    },
    {
      "cell_type": "code",
      "metadata": {
        "id": "bZK71vrSGPL0",
        "colab_type": "code",
        "colab": {}
      },
      "source": [
        "from keras.callbacks import ModelCheckpoint, LearningRateScheduler\n",
        "from keras.callbacks import ReduceLROnPlateau\n",
        "def lr_schedule(epoch):\n",
        "    \"\"\"Learning Rate Schedule\n",
        "\n",
        "    Learning rate is scheduled to be reduced after 80, 120, 160, 180 epochs.\n",
        "    Called automatically every epoch as part of callbacks during training.\n",
        "\n",
        "    # Arguments\n",
        "        epoch (int): The number of epochs\n",
        "\n",
        "    # Returns\n",
        "        lr (float32): learning rate\n",
        "    \"\"\"\n",
        "    lr=1e-2\n",
        "    if epoch > 30:\n",
        "        lr *= 1e-4\n",
        "    elif epoch > 20:\n",
        "        lr *= 1e-3\n",
        "    elif epoch > 15:\n",
        "        lr *= 1e-2\n",
        "    elif epoch > 13:\n",
        "        lr *= 1e-1\n",
        "\n",
        "    print('Learning rate: ', lr)\n",
        "    return lr\n",
        "\n",
        "  \n",
        "lr_scheduler = LearningRateScheduler(lr_schedule)\n",
        "\n",
        "lr_reducer = ReduceLROnPlateau(factor=np.sqrt(0.1),\n",
        "                               cooldown=0,\n",
        "                               patience=5,\n",
        "                               min_lr=0.5e-6)\n"
      ],
      "execution_count": 0,
      "outputs": []
    },
    {
      "cell_type": "code",
      "metadata": {
        "id": "E9ajBQLqA36P",
        "colab_type": "code",
        "outputId": "9a16628e-9e8b-42dd-e929-af1ca3998eae",
        "colab": {
          "base_uri": "https://localhost:8080/",
          "height": 51
        }
      },
      "source": [
        "beta_1=0.99\n",
        "beta_2=0.999\n",
        "adam=Adam(lr=lr_schedule(0),beta_1=beta_1, beta_2=beta_2,decay=1e-6)\n",
        "#if os.path.exists(dir):\n",
        " # model.load_weights(dir+\"/faceTrackBest-v0.2.h5\")\n",
        "\n",
        "print(\"Compiling model...\")\n",
        "model.compile(loss=\"categorical_crossentropy\", optimizer=\"adam\", metrics=[\"accuracy\"])\n",
        "\n",
        " "
      ],
      "execution_count": 30,
      "outputs": [
        {
          "output_type": "stream",
          "text": [
            "Learning rate:  0.01\n",
            "Compiling model...\n"
          ],
          "name": "stdout"
        }
      ]
    },
    {
      "cell_type": "code",
      "metadata": {
        "id": "2e493x2aBY1r",
        "colab_type": "code",
        "colab": {}
      },
      "source": [
        "checkpoint = ModelCheckpoint(filepath=dir+'/faceXBest-v0.2.h5',\n",
        "                             monitor='val_loss',\n",
        "                             verbose=1,\n",
        "                             save_best_only=True,\n",
        "                             save_weights_only=True)\n",
        "checkpoint2 = ModelCheckpoint(filepath=dir+'/faceXLast-v0.2.h5',\n",
        "                             monitor='val_loss',\n",
        "                             verbose=1,\n",
        "                             save_best_only=False,\n",
        "                             save_weights_only=True)\n",
        "callbacks = [checkpoint,checkpoint2,lr_reducer, lr_scheduler]"
      ],
      "execution_count": 0,
      "outputs": []
    },
    {
      "cell_type": "code",
      "metadata": {
        "id": "KMSz9qlQJsbJ",
        "colab_type": "code",
        "colab": {}
      },
      "source": [
        "import matplotlib.pyplot as plt\n",
        "from keras.utils import np_utils\n",
        "def load_image(image_name):\n",
        "    if image_name not in image_cache:\n",
        "        image = plt.imread(os.path.join(IMAGE_DIR, image_name)).astype(np.float32)\n",
        "        #image = imresize(image, (64, 64))\n",
        "        image = np.divide(image, 256)\n",
        "        image_cache[image_name] = image\n",
        "    return image_cache[image_name]\n",
        " \n",
        "def generate_image_triples_batch(image_triples, batch_size, shuffle=False):\n",
        "    while True:\n",
        "        # loop once per epoch\n",
        "        if shuffle:\n",
        "            indices = np.random.permutation(np.arange(len(image_triples)))\n",
        "        else:\n",
        "            indices = np.arange(len(image_triples))\n",
        "        shuffled_triples = [image_triples[ix] for ix in indices]\n",
        "        num_batches = len(shuffled_triples) // batch_size\n",
        "        for bid in range(num_batches):\n",
        "            # loop once per batch\n",
        "            images_left, images_right, labels = [], [], []\n",
        "            batch = shuffled_triples[bid * batch_size : (bid + 1) * batch_size]\n",
        "            for i in range(batch_size):\n",
        "                lhs, rhs, label = batch[i]\n",
        "                images_left.append(load_image(lhs))\n",
        "                images_right.append(load_image(rhs))              \n",
        "                labels.append(label)\n",
        "            Xlhs = np.array(images_left)\n",
        "            Xrhs = np.array(images_right)\n",
        "            Y = np_utils.to_categorical(np.array(labels), num_classes=2)\n",
        "            yield ([Xlhs, Xrhs], Y)"
      ],
      "execution_count": 0,
      "outputs": []
    },
    {
      "cell_type": "code",
      "metadata": {
        "id": "AlbAHdAFILfr",
        "colab_type": "code",
        "colab": {}
      },
      "source": [
        "NUM_EPOCHS = 10\n",
        "\n",
        "image_cache = {}\n",
        "train_gen = generate_image_triples_batch(train_triples, BATCH_SIZE, shuffle=True)\n",
        "val_gen = generate_image_triples_batch(val_triples, BATCH_SIZE, shuffle=False)\n",
        "test_gen = generate_image_triples_batch(test_triples, BATCH_SIZE, shuffle=False)\n",
        "num_train_steps = len(train_triples) // BATCH_SIZE\n",
        "num_val_steps = len(val_triples) // BATCH_SIZE\n",
        "num_test_steps = len(test_triples) // BATCH_SIZE"
      ],
      "execution_count": 0,
      "outputs": []
    },
    {
      "cell_type": "code",
      "metadata": {
        "id": "2PGm9arrBY4b",
        "colab_type": "code",
        "outputId": "29aa160f-b228-4360-ad29-198218c83a72",
        "colab": {
          "base_uri": "https://localhost:8080/",
          "height": 139
        }
      },
      "source": [
        "history = model.fit_generator(train_gen,\n",
        "                              steps_per_epoch=num_train_steps,\n",
        "                              epochs=NUM_EPOCHS,verbose=1,\n",
        "                              validation_data=val_gen,\n",
        "                              validation_steps=num_val_steps,callbacks=callbacks)\n",
        "#, workers=12,\n",
        " #                             use_multiprocessing=True,initial_epoch=0)"
      ],
      "execution_count": 0,
      "outputs": [
        {
          "output_type": "stream",
          "text": [
            "WARNING:tensorflow:From /usr/local/lib/python3.6/dist-packages/tensorflow/python/ops/math_grad.py:297: setdiff1d (from tensorflow.python.ops.array_ops) is deprecated and will be removed after 2018-11-30.\n",
            "Instructions for updating:\n",
            "This op will be removed after the deprecation date. Please switch to tf.sets.difference().\n",
            "Epoch 1/10\n",
            "Learning rate:  0.01\n",
            "1958/3028 [==================>...........] - ETA: 3:43 - loss: 0.6960 - accuracy: 0.5010"
          ],
          "name": "stdout"
        }
      ]
    },
    {
      "cell_type": "code",
      "metadata": {
        "id": "m-6Mi82QI3J6",
        "colab_type": "code",
        "colab": {}
      },
      "source": [
        "prediction = model.evaluate_generator(test_gen,steps=num_test_steps,verbose=1,workers=8,use_multiprocessing=True)"
      ],
      "execution_count": 0,
      "outputs": []
    },
    {
      "cell_type": "code",
      "metadata": {
        "id": "iYL1zwDWMOaS",
        "colab_type": "code",
        "colab": {}
      },
      "source": [
        "prediction"
      ],
      "execution_count": 0,
      "outputs": []
    },
    {
      "cell_type": "code",
      "metadata": {
        "id": "Jpfx7qnaHcQY",
        "colab_type": "code",
        "colab": {}
      },
      "source": [
        "\"\"\"history = model.fit_generator(train_gen,\n",
        "                              steps_per_epoch=num_train_steps,initial_epoch=10,\n",
        "                              epochs=50,verbose=1,\n",
        "                              validation_data=val_gen,\n",
        "                              validation_steps=num_val_steps,callbacks=callbacks)\n",
        "\"\"\""
      ],
      "execution_count": 0,
      "outputs": []
    },
    {
      "cell_type": "code",
      "metadata": {
        "id": "3s-Pt9_1t44r",
        "colab_type": "code",
        "colab": {}
      },
      "source": [
        "plt.subplot(211)\n",
        "plt.title(\"Loss\")\n",
        "plt.plot(history.history[\"loss\"], color=\"r\", label=\"train\")\n",
        "plt.plot(history.history[\"val_loss\"], color=\"b\", label=\"validation\")\n",
        "plt.legend(loc=\"best\")\n",
        "\n",
        "plt.subplot(212)\n",
        "plt.title(\"Accuracy\")\n",
        "plt.plot(history.history[\"accuracy\"], color=\"r\", label=\"train\")\n",
        "plt.plot(history.history[\"val_accuracy\"], color=\"b\", label=\"validation\")\n",
        "plt.legend(loc=\"best\")\n",
        "\n",
        "plt.tight_layout()\n",
        "plt.show()"
      ],
      "execution_count": 0,
      "outputs": []
    },
    {
      "cell_type": "code",
      "metadata": {
        "id": "iqDRxbUIKK6z",
        "colab_type": "code",
        "colab": {}
      },
      "source": [
        "import pandas as pd\n",
        "\n",
        "# convert the history.history dict to a pandas DataFrame:     \n",
        "hist_df = pd.DataFrame(history.history) \n",
        "\n",
        "# save to json:  \n",
        "hist_json_file = dir+'/history.json' \n",
        "with open(hist_json_file, mode='w') as f:\n",
        "    hist_df.to_json(f)\n",
        "\n",
        "# or save to csv: \n",
        "hist_csv_file = dir+'/history.csv'\n",
        "with open(hist_csv_file, mode='w') as f:\n",
        "    hist_df.to_csv(f)"
      ],
      "execution_count": 0,
      "outputs": []
    },
    {
      "cell_type": "code",
      "metadata": {
        "id": "f6kS3o-5F_Vj",
        "colab_type": "code",
        "colab": {}
      },
      "source": [
        "model_json = model.to_json()\n",
        "with open(dir+\"/model.json\", \"w\") as json_file:\n",
        "    json_file.write(model_json)"
      ],
      "execution_count": 0,
      "outputs": []
    },
    {
      "cell_type": "code",
      "metadata": {
        "id": "_Fru6QtO1vGq",
        "colab_type": "code",
        "colab": {}
      },
      "source": [
        ""
      ],
      "execution_count": 0,
      "outputs": []
    }
  ]
}