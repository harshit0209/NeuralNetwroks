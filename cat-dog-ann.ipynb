{
  "nbformat": 4,
  "nbformat_minor": 0,
  "metadata": {
    "colab": {
      "name": "Untitled3.ipynb",
      "provenance": [],
      "authorship_tag": "ABX9TyNddv/YaOKqGJoQ8XYfKVjT",
      "include_colab_link": true
    },
    "kernelspec": {
      "name": "python3",
      "display_name": "Python 3"
    },
    "accelerator": "GPU"
  },
  "cells": [
    {
      "cell_type": "markdown",
      "metadata": {
        "id": "view-in-github",
        "colab_type": "text"
      },
      "source": [
        "<a href=\"https://colab.research.google.com/github/harshit0209/NeuralNetwroks/blob/master/cat-dog-ann.ipynb\" target=\"_parent\"><img src=\"https://colab.research.google.com/assets/colab-badge.svg\" alt=\"Open In Colab\"/></a>"
      ]
    },
    {
      "cell_type": "markdown",
      "metadata": {
        "id": "s5w3jb_pH8wN",
        "colab_type": "text"
      },
      "source": [
        "Tutorial [youtube](https://www.youtube.com/watch?v=j-3vuBynnOE)"
      ]
    },
    {
      "cell_type": "code",
      "metadata": {
        "id": "HiAvTz4e9iL1",
        "colab_type": "code",
        "colab": {}
      },
      "source": [
        "#download dataset of cat and dog from custom url(microsoft)\n",
        "!wget https://download.microsoft.com/download/3/E/1/3E1C3F21-ECDB-4869-8368-6DEBA77B919F/kagglecatsanddogs_3367a.zip\n",
        "!unzip kagglecatsanddogs_3367a.zip "
      ],
      "execution_count": 0,
      "outputs": []
    },
    {
      "cell_type": "code",
      "metadata": {
        "id": "pHh5F5oM-zFY",
        "colab_type": "code",
        "colab": {}
      },
      "source": [
        "import numpy as np\n",
        "import matplotlib.pyplot as plt\n",
        "import os\n",
        "import cv2\n",
        "\n",
        "DATADIR='PetImages'\n",
        "CATEGORIES=['Dog','Cat']\n",
        "\n"
      ],
      "execution_count": 0,
      "outputs": []
    },
    {
      "cell_type": "code",
      "metadata": {
        "id": "yU-bp43cBugF",
        "colab_type": "code",
        "colab": {}
      },
      "source": [
        " img_size=50\n",
        " \n",
        " \n"
      ],
      "execution_count": 0,
      "outputs": []
    },
    {
      "cell_type": "code",
      "metadata": {
        "id": "l_r_T78RCYar",
        "colab_type": "code",
        "colab": {}
      },
      "source": [
        "training_data=[]#this list will store data and label\n",
        "def create_training_data():\n",
        "  for category in CATEGORIES:\n",
        "    path=os.path.join(DATADIR,category)\n",
        "    class_num=CATEGORIES.index(category)#give the index 0 or 1 of category that is dog or cat on each iteration\n",
        "    for img in os.listdir(path):\n",
        "      try:\n",
        "\n",
        "        img_array=cv2.imread(os.path.join(path,img),cv2.IMREAD_GRAYSCALE)\n",
        "        new_array=cv2.resize(img_array,(img_size,img_size))\n",
        "        training_data.append([new_array,class_num])\n",
        "      except Exception as e:\n",
        "        pass \n",
        "\n",
        "create_training_data()\n",
        "     "
      ],
      "execution_count": 0,
      "outputs": []
    },
    {
      "cell_type": "code",
      "metadata": {
        "id": "z6qNDEh1D8CK",
        "colab_type": "code",
        "colab": {
          "base_uri": "https://localhost:8080/",
          "height": 34
        },
        "outputId": "3fe1b64e-b48f-4ced-c53c-bb60cba895bc"
      },
      "source": [
        "print(len(training_data))"
      ],
      "execution_count": 8,
      "outputs": [
        {
          "output_type": "stream",
          "text": [
            "24946\n"
          ],
          "name": "stdout"
        }
      ]
    },
    {
      "cell_type": "code",
      "metadata": {
        "id": "bBiT-NRQEdck",
        "colab_type": "code",
        "colab": {}
      },
      "source": [
        "import random\n",
        "random.shuffle(training_data)\n"
      ],
      "execution_count": 0,
      "outputs": []
    },
    {
      "cell_type": "code",
      "metadata": {
        "id": "BIZtTXtPE_Ua",
        "colab_type": "code",
        "colab": {}
      },
      "source": [
        "#showing randome effect\n",
        "#0 is dog\n",
        "#1 is cat\n",
        "for sample in training_data:\n",
        "  print (sample[1])"
      ],
      "execution_count": 0,
      "outputs": []
    },
    {
      "cell_type": "code",
      "metadata": {
        "id": "VpcoeoVmE_YM",
        "colab_type": "code",
        "colab": {}
      },
      "source": [
        "X=[]\n",
        "y=[]\n"
      ],
      "execution_count": 0,
      "outputs": []
    },
    {
      "cell_type": "code",
      "metadata": {
        "id": "whgLBmbiE_SM",
        "colab_type": "code",
        "colab": {}
      },
      "source": [
        "for features, label in training_data:\n",
        "  X.append(features)\n",
        "  y.append(label)\n",
        "\n",
        "X=np.array(X).reshape(-1,img_size,img_size)\n"
      ],
      "execution_count": 0,
      "outputs": []
    },
    {
      "cell_type": "code",
      "metadata": {
        "id": "ZpGrnjhyF5lP",
        "colab_type": "code",
        "colab": {}
      },
      "source": [
        "import pickle\n",
        "pickle_out=open(\"X.pickle\",'wb')\n",
        "pickle.dump(X,pickle_out)\n",
        "pickle_out.close()\n",
        "\n",
        "pickle_out=open(\"y.pickle\",'wb')\n",
        "pickle.dump(y,pickle_out)\n",
        "pickle_out.close()\n"
      ],
      "execution_count": 0,
      "outputs": []
    },
    {
      "cell_type": "code",
      "metadata": {
        "id": "HgPSQAz8F5qy",
        "colab_type": "code",
        "colab": {}
      },
      "source": [
        "pickle_in=open(\"X.pickle\",'rb')\n",
        "X=pickle.load(pickle_in)"
      ],
      "execution_count": 0,
      "outputs": []
    },
    {
      "cell_type": "code",
      "metadata": {
        "id": "bSf0kKVVHfet",
        "colab_type": "code",
        "colab": {
          "base_uri": "https://localhost:8080/",
          "height": 136
        },
        "outputId": "46c55bad-f847-4f48-c7ea-4f830ed2db85"
      },
      "source": [
        "X[1]"
      ],
      "execution_count": 24,
      "outputs": [
        {
          "output_type": "execute_result",
          "data": {
            "text/plain": [
              "array([[ 68,  67,  65, ..., 234, 212, 200],\n",
              "       [ 64,  70,  69, ..., 216, 219, 251],\n",
              "       [ 69,  71,  71, ..., 184, 232, 252],\n",
              "       ...,\n",
              "       [199, 208, 213, ..., 148, 147, 143],\n",
              "       [188, 197, 200, ..., 149, 149, 146],\n",
              "       [194, 188, 188, ..., 152, 145, 150]], dtype=uint8)"
            ]
          },
          "metadata": {
            "tags": []
          },
          "execution_count": 24
        }
      ]
    }
  ]
}